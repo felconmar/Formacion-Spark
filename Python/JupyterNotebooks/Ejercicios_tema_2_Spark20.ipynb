{
  "nbformat": 4,
  "nbformat_minor": 0,
  "metadata": {
    "colab": {
      "name": "Ejercicios tema 2 - Spark20.ipynb",
      "provenance": [],
      "collapsed_sections": []
    },
    "kernelspec": {
      "name": "python3",
      "display_name": "Python 3"
    },
    "language_info": {
      "name": "python"
    }
  },
  "cells": [
    {
      "cell_type": "code",
      "execution_count": 3,
      "metadata": {
        "colab": {
          "base_uri": "https://localhost:8080/"
        },
        "id": "0R5h6-54SJvm",
        "outputId": "0bca895b-da0c-43b6-f0ee-fd155d4c955f"
      },
      "outputs": [
        {
          "output_type": "stream",
          "name": "stdout",
          "text": [
            "Collecting pyspark\n",
            "  Downloading pyspark-3.2.1.tar.gz (281.4 MB)\n",
            "\u001b[K     |████████████████████████████████| 281.4 MB 34 kB/s \n",
            "\u001b[?25hCollecting py4j==0.10.9.3\n",
            "  Downloading py4j-0.10.9.3-py2.py3-none-any.whl (198 kB)\n",
            "\u001b[K     |████████████████████████████████| 198 kB 35.1 MB/s \n",
            "\u001b[?25hBuilding wheels for collected packages: pyspark\n",
            "  Building wheel for pyspark (setup.py) ... \u001b[?25l\u001b[?25hdone\n",
            "  Created wheel for pyspark: filename=pyspark-3.2.1-py2.py3-none-any.whl size=281853642 sha256=1b686f08178ffac52c4fb03214e82bd00d273d5f961ff0c81720842838b3ae55\n",
            "  Stored in directory: /root/.cache/pip/wheels/9f/f5/07/7cd8017084dce4e93e84e92efd1e1d5334db05f2e83bcef74f\n",
            "Successfully built pyspark\n",
            "Installing collected packages: py4j, pyspark\n",
            "Successfully installed py4j-0.10.9.3 pyspark-3.2.1\n"
          ]
        }
      ],
      "source": [
        "!pip install pyspark"
      ]
    },
    {
      "cell_type": "code",
      "source": [
        "from google.colab import drive\n",
        "drive.mount('/content/drive')"
      ],
      "metadata": {
        "colab": {
          "base_uri": "https://localhost:8080/"
        },
        "id": "rcAPScS0SMgF",
        "outputId": "68f27836-6e3a-49f2-d076-650adf61029f"
      },
      "execution_count": 4,
      "outputs": [
        {
          "output_type": "stream",
          "name": "stdout",
          "text": [
            "Mounted at /content/drive\n"
          ]
        }
      ]
    },
    {
      "cell_type": "markdown",
      "source": [
        "Del ejercicio de M&M aplicar: \n",
        "\n",
        "\n",
        "1.   Otras operaciones de agregación como el Max con otro tipo de \n",
        "ordenamiento (descendiente).\n",
        "2.   Hacer un ejercicio como el “where” de CA que aparece en el libro pero \n",
        "indicando más opciones de estados (p.e. NV, TX, CA, CO).\n",
        "3. Hacer un ejercicio donde se calculen en una misma operación el Max, \n",
        "Min, Avg, Count. Revisar el API (documentación) donde encontrarán \n",
        "este ejemplo:\n",
        "ds.agg(max($\"age\"), avg($\"salary\"))\n",
        "ds.groupBy().agg(max($\"age\"), avg($\"salary\"))\n",
        "NOTA: $ es un alias de col()\n",
        "4. Hacer también ejercicios en SQL creando tmpView"
      ],
      "metadata": {
        "id": "iGm0fIJOvhso"
      }
    },
    {
      "cell_type": "code",
      "source": [
        "from pyspark.sql import SparkSession\n",
        "\n",
        "#Create SparkSession\n",
        "spark = (SparkSession\n",
        "  .builder\n",
        "  .appName(\"PythonMnMCount\")\n",
        "  .getOrCreate())\n",
        "#Read dataset\n",
        "mnm_df = (spark.read.format(\"csv\")\n",
        "  .option(\"header\", \"true\")\n",
        "  .option(\"inferSchema\", \"true\")\n",
        "  .load('/content/drive/My Drive/Bosonit pyspark/data/mnm_dataset.csv'))"
      ],
      "metadata": {
        "id": "TDZ3FtCYwNOX"
      },
      "execution_count": 13,
      "outputs": []
    },
    {
      "cell_type": "code",
      "source": [
        "from pyspark.sql import SparkSession\n",
        "from pyspark.sql.functions import max, desc, asc, avg\n",
        "\n",
        "def mnm_op():\n",
        "  \n",
        "#Select columns State, Color and Count, grouped by State and Color, aggregate Count with average, alias \"Avg\", order by \"Avg\"\n",
        "  op_mnm_df = (mnm_df\n",
        "    .select(\"State\", \"Color\", \"Count\")\n",
        "    .groupBy(\"State\", \"Color\")\n",
        "    .agg(avg(\"Count\").alias(\"Avg\"))\n",
        "    .orderBy(\"Avg\", ascending=True))\n",
        "#Show 60 rows without any truncate and print the total of rows\n",
        "  op_mnm_df.show(n=60, truncate=False)\n",
        "  print(\"Total Rows = %d\" % (op_mnm_df.count()))\n",
        "#Same as before but only from California\n",
        "  ca_op_mnm_df = (mnm_df\n",
        "    .select(\"State\", \"Color\", \"Count\")\n",
        "    .where(mnm_df.State == \"CA\")\n",
        "    .groupBy(\"State\", \"Color\")\n",
        "    .agg(avg(\"Count\").alias(\"Avg\"))\n",
        "    .orderBy(desc(\"Avg\")))\n",
        "#Show only 10 rows without truncate\n",
        "  ca_op_mnm_df.show(n=10, truncate=False)\n"
      ],
      "metadata": {
        "id": "UN0qcezsSMnN"
      },
      "execution_count": 14,
      "outputs": []
    },
    {
      "cell_type": "code",
      "source": [
        "mnm_op()"
      ],
      "metadata": {
        "colab": {
          "base_uri": "https://localhost:8080/"
        },
        "id": "i6A0RU6ZSMpn",
        "outputId": "5b6de0dc-8d78-4fe1-cf9e-5a642654a8b0"
      },
      "execution_count": 15,
      "outputs": [
        {
          "output_type": "stream",
          "name": "stdout",
          "text": [
            "+-----+------+------------------+\n",
            "|State|Color |Avg               |\n",
            "+-----+------+------------------+\n",
            "|NV   |Green |53.78739693757362 |\n",
            "|NV   |Blue  |53.797369994022716|\n",
            "|WY   |Yellow|53.997539975399754|\n",
            "|UT   |Red   |54.163690476190474|\n",
            "|NM   |Green |54.1973840665874  |\n",
            "|OR   |Orange|54.22489959839358 |\n",
            "|WA   |Green |54.23608768971332 |\n",
            "|UT   |Orange|54.24049881235155 |\n",
            "|UT   |Yellow|54.263829787234044|\n",
            "|CA   |Green |54.268717353453276|\n",
            "|AZ   |Orange|54.28300769686205 |\n",
            "|AZ   |Brown |54.350412249705535|\n",
            "|UT   |Blue  |54.366767371601206|\n",
            "|CA   |Orange|54.502715751357876|\n",
            "|UT   |Brown |54.55119558553035 |\n",
            "|NV   |Yellow|54.561194029850746|\n",
            "|OR   |Yellow|54.60285006195787 |\n",
            "|AZ   |Red   |54.637135922330096|\n",
            "|WY   |Blue  |54.68870192307692 |\n",
            "|CO   |Green |54.71336835960304 |\n",
            "|NM   |Orange|54.8054054054054  |\n",
            "|TX   |Blue  |54.811648079306075|\n",
            "|OR   |Green |54.821297429620564|\n",
            "|AZ   |Green |54.82219570405728 |\n",
            "|NV   |Orange|54.865070093457945|\n",
            "|OR   |Red   |54.88510638297873 |\n",
            "|NM   |Yellow|54.94490521327014 |\n",
            "|WY   |Red   |54.950898203592814|\n",
            "|AZ   |Yellow|54.98548972188634 |\n",
            "|OR   |Brown |54.98827884022209 |\n",
            "|AZ   |Blue  |54.99449877750611 |\n",
            "|OR   |Blue  |54.99756986634265 |\n",
            "|NM   |Blue  |55.03663003663004 |\n",
            "|CO   |Red   |55.089285714285715|\n",
            "|TX   |Yellow|55.09042865531415 |\n",
            "|CO   |Blue  |55.11032448377581 |\n",
            "|TX   |Green |55.12550374208405 |\n",
            "|WY   |Orange|55.144827586206894|\n",
            "|WA   |Orange|55.199638118214715|\n",
            "|CO   |Yellow|55.22254503195816 |\n",
            "|CA   |Red   |55.26992753623188 |\n",
            "|TX   |Brown |55.29311395490554 |\n",
            "|TX   |Red   |55.306666666666665|\n",
            "|WA   |Blue  |55.314461538461536|\n",
            "|NM   |Brown |55.392412566686424|\n",
            "|CO   |Orange|55.402557856272836|\n",
            "|NV   |Red   |55.4944099378882  |\n",
            "|UT   |Green |55.557510999371466|\n",
            "|CA   |Blue  |55.59762944479102 |\n",
            "|WY   |Green |55.657227138643066|\n",
            "|CA   |Brown |55.740395809080326|\n",
            "|WA   |Brown |55.77112043139604 |\n",
            "|NV   |Brown |55.81050090525045 |\n",
            "|WA   |Red   |55.85397965290245 |\n",
            "|CA   |Yellow|55.8693967902601  |\n",
            "|WA   |Yellow|55.8749248346362  |\n",
            "|TX   |Orange|55.880750605326874|\n",
            "|NM   |Red   |56.03491124260355 |\n",
            "|WY   |Brown |56.20757180156658 |\n",
            "|CO   |Brown |56.57729468599034 |\n",
            "+-----+------+------------------+\n",
            "\n",
            "Total Rows = 60\n",
            "+-----+------+------------------+\n",
            "|State|Color |Avg               |\n",
            "+-----+------+------------------+\n",
            "|CA   |Yellow|55.8693967902601  |\n",
            "|CA   |Brown |55.740395809080326|\n",
            "|CA   |Blue  |55.59762944479102 |\n",
            "|CA   |Red   |55.26992753623188 |\n",
            "|CA   |Orange|54.502715751357876|\n",
            "|CA   |Green |54.268717353453276|\n",
            "+-----+------+------------------+\n",
            "\n"
          ]
        }
      ]
    },
    {
      "cell_type": "code",
      "source": [
        "from pyspark.sql import SparkSession\n",
        "from pyspark.sql.functions import max, desc, asc, avg,count\n",
        "def mnm_multiple_states():\n",
        "#Select columns State, Color and Count where state in [CA, WA, NV, TX], grouped by State and Color, aggregate Count with count, alias \"Total\", order by \"Total\"\n",
        "  multi_sats_op_mnm_df = (mnm_df\n",
        "    .where((mnm_df.State == \"CA\") | (mnm_df.State == \"WA\") | (mnm_df.State == \"NV\") | (mnm_df.State == \"TX\"))\n",
        "    .groupBy(\"Color\", \"State\")\n",
        "    .agg(count(\"Count\").alias(\"Total\"))\n",
        "    .orderBy(desc(\"Total\"))\n",
        "    .select(\"State\", \"Color\", \"Total\"))\n",
        "#Show 60 rows without truncate\n",
        "  multi_sats_op_mnm_df.show(n=60, truncate=False)\n"
      ],
      "metadata": {
        "id": "FxYrLdUJSMsS"
      },
      "execution_count": 18,
      "outputs": []
    },
    {
      "cell_type": "code",
      "source": [
        "mnm_multiple_states()"
      ],
      "metadata": {
        "id": "FSV4YtCOSMu5",
        "colab": {
          "base_uri": "https://localhost:8080/"
        },
        "outputId": "fbd6d1ea-d7ce-4141-de27-87c0f35febc0"
      },
      "execution_count": 19,
      "outputs": [
        {
          "output_type": "stream",
          "name": "stdout",
          "text": [
            "+-----+------+-----+\n",
            "|State|Color |Total|\n",
            "+-----+------+-----+\n",
            "|CA   |Yellow|1807 |\n",
            "|WA   |Green |1779 |\n",
            "|TX   |Green |1737 |\n",
            "|TX   |Red   |1725 |\n",
            "|CA   |Green |1723 |\n",
            "|CA   |Brown |1718 |\n",
            "|NV   |Orange|1712 |\n",
            "|TX   |Yellow|1703 |\n",
            "|NV   |Green |1698 |\n",
            "|NV   |Yellow|1675 |\n",
            "|NV   |Blue  |1673 |\n",
            "|WA   |Red   |1671 |\n",
            "|WA   |Brown |1669 |\n",
            "|WA   |Yellow|1663 |\n",
            "|WA   |Orange|1658 |\n",
            "|NV   |Brown |1657 |\n",
            "|CA   |Orange|1657 |\n",
            "|CA   |Red   |1656 |\n",
            "|TX   |Orange|1652 |\n",
            "|TX   |Brown |1641 |\n",
            "|WA   |Blue  |1625 |\n",
            "|TX   |Blue  |1614 |\n",
            "|NV   |Red   |1610 |\n",
            "|CA   |Blue  |1603 |\n",
            "+-----+------+-----+\n",
            "\n"
          ]
        }
      ]
    },
    {
      "cell_type": "code",
      "source": [
        "from pyspark.sql import SparkSession\n",
        "from pyspark.sql.functions import max, desc, asc, avg,count\n",
        "def mnm_multiple_agg():\n",
        "  #Select columns State, Color, Total, Max, Avg, grouped by State and Color, aggregate Count with (count alias \"Total\", max alias \"Max\", avg alias \"Avg\"), order by \"State\"\n",
        "  multi_agg_op_mnm_df = (mnm_df\n",
        "    .groupBy(\"State\", \"Color\")\n",
        "    .agg(count(\"Count\").alias(\"Total\"), max(\"Count\").alias(\"Max\"),avg(\"Count\").alias(\"Avg\"))\n",
        "    .orderBy(desc(\"State\"))\n",
        "    .select(\"State\", \"Color\", \"Total\", \"Max\", \"Avg\"))\n",
        "#Show 60 without truncate\n",
        "  multi_agg_op_mnm_df.show(n=60, truncate=False)\n"
      ],
      "metadata": {
        "id": "YshYQafqSMxQ"
      },
      "execution_count": 22,
      "outputs": []
    },
    {
      "cell_type": "code",
      "source": [
        "mnm_multiple_agg()"
      ],
      "metadata": {
        "id": "gfwY_TeeykXb",
        "colab": {
          "base_uri": "https://localhost:8080/"
        },
        "outputId": "b17a8585-5fca-4646-c725-e5606aae64aa"
      },
      "execution_count": 23,
      "outputs": [
        {
          "output_type": "stream",
          "name": "stdout",
          "text": [
            "+-----+------+-----+---+------------------+\n",
            "|State|Color |Total|Max|Avg               |\n",
            "+-----+------+-----+---+------------------+\n",
            "|WY   |Brown |1532 |100|56.20757180156658 |\n",
            "|WY   |Orange|1595 |100|55.144827586206894|\n",
            "|WY   |Blue  |1664 |100|54.68870192307692 |\n",
            "|WY   |Yellow|1626 |100|53.997539975399754|\n",
            "|WY   |Green |1695 |100|55.657227138643066|\n",
            "|WY   |Red   |1670 |100|54.950898203592814|\n",
            "|WA   |Red   |1671 |100|55.85397965290245 |\n",
            "|WA   |Green |1779 |100|54.23608768971332 |\n",
            "|WA   |Blue  |1625 |100|55.314461538461536|\n",
            "|WA   |Brown |1669 |100|55.77112043139604 |\n",
            "|WA   |Yellow|1663 |100|55.8749248346362  |\n",
            "|WA   |Orange|1658 |100|55.199638118214715|\n",
            "|UT   |Orange|1684 |100|54.24049881235155 |\n",
            "|UT   |Brown |1631 |100|54.55119558553035 |\n",
            "|UT   |Red   |1680 |100|54.163690476190474|\n",
            "|UT   |Blue  |1655 |100|54.366767371601206|\n",
            "|UT   |Yellow|1645 |100|54.263829787234044|\n",
            "|UT   |Green |1591 |100|55.557510999371466|\n",
            "|TX   |Green |1737 |100|55.12550374208405 |\n",
            "|TX   |Orange|1652 |100|55.880750605326874|\n",
            "|TX   |Red   |1725 |100|55.306666666666665|\n",
            "|TX   |Brown |1641 |100|55.29311395490554 |\n",
            "|TX   |Blue  |1614 |100|54.811648079306075|\n",
            "|TX   |Yellow|1703 |100|55.09042865531415 |\n",
            "|OR   |Orange|1743 |100|54.22489959839358 |\n",
            "|OR   |Green |1634 |100|54.821297429620564|\n",
            "|OR   |Red   |1645 |100|54.88510638297873 |\n",
            "|OR   |Yellow|1614 |100|54.60285006195787 |\n",
            "|OR   |Blue  |1646 |100|54.99756986634265 |\n",
            "|OR   |Brown |1621 |100|54.98827884022209 |\n",
            "|NV   |Blue  |1673 |100|53.797369994022716|\n",
            "|NV   |Red   |1610 |100|55.4944099378882  |\n",
            "|NV   |Green |1698 |100|53.78739693757362 |\n",
            "|NV   |Yellow|1675 |100|54.561194029850746|\n",
            "|NV   |Brown |1657 |100|55.81050090525045 |\n",
            "|NV   |Orange|1712 |100|54.865070093457945|\n",
            "|NM   |Yellow|1688 |100|54.94490521327014 |\n",
            "|NM   |Blue  |1638 |100|55.03663003663004 |\n",
            "|NM   |Red   |1690 |100|56.03491124260355 |\n",
            "|NM   |Orange|1665 |100|54.8054054054054  |\n",
            "|NM   |Brown |1687 |100|55.392412566686424|\n",
            "|NM   |Green |1682 |100|54.1973840665874  |\n",
            "|CO   |Yellow|1721 |100|55.22254503195816 |\n",
            "|CO   |Brown |1656 |100|56.57729468599034 |\n",
            "|CO   |Red   |1624 |100|55.089285714285715|\n",
            "|CO   |Blue  |1695 |100|55.11032448377581 |\n",
            "|CO   |Green |1713 |100|54.71336835960304 |\n",
            "|CO   |Orange|1642 |100|55.402557856272836|\n",
            "|CA   |Red   |1656 |100|55.26992753623188 |\n",
            "|CA   |Yellow|1807 |100|55.8693967902601  |\n",
            "|CA   |Brown |1718 |100|55.740395809080326|\n",
            "|CA   |Orange|1657 |100|54.502715751357876|\n",
            "|CA   |Green |1723 |100|54.268717353453276|\n",
            "|CA   |Blue  |1603 |100|55.59762944479102 |\n",
            "|AZ   |Green |1676 |100|54.82219570405728 |\n",
            "|AZ   |Orange|1689 |100|54.28300769686205 |\n",
            "|AZ   |Yellow|1654 |100|54.98548972188634 |\n",
            "|AZ   |Blue  |1636 |100|54.99449877750611 |\n",
            "|AZ   |Brown |1698 |100|54.350412249705535|\n",
            "|AZ   |Red   |1648 |100|54.637135922330096|\n",
            "+-----+------+-----+---+------------------+\n",
            "\n"
          ]
        }
      ]
    },
    {
      "cell_type": "code",
      "source": [
        "from pyspark.sql import SparkSession\n",
        "from pyspark.sql.functions import max, desc, asc, avg,count\n",
        "def mnm_pysql():\n",
        "  mnm_df.createOrReplaceTempView(\"mnm_view\") \n",
        "  #Select columns State, Color and Count where State in [CA, TX, WA], grouped by State and Color, aggregate Count with average, order by \"State\"\n",
        "  sql_mnm_view = spark.sql(\"select State, Color, avg(Count) from mnm_view \\\n",
        "        where State = 'CA' or State = 'TX' or State = 'WA' group by State, Color order by State;\") \n",
        "  #Show 60 without truncate\n",
        "  sql_mnm_view.show(n=60, truncate=False)\n"
      ],
      "metadata": {
        "id": "Wlo1MftSyksc"
      },
      "execution_count": 28,
      "outputs": []
    },
    {
      "cell_type": "code",
      "source": [
        "mnm_pysql()"
      ],
      "metadata": {
        "colab": {
          "base_uri": "https://localhost:8080/"
        },
        "id": "X9zy1d6gyk6E",
        "outputId": "6247dcaa-595a-4c1d-b187-f7d18832251b"
      },
      "execution_count": 29,
      "outputs": [
        {
          "output_type": "stream",
          "name": "stdout",
          "text": [
            "+-----+------+------------------+\n",
            "|State|Color |avg(Count)        |\n",
            "+-----+------+------------------+\n",
            "|CA   |Brown |55.740395809080326|\n",
            "|CA   |Green |54.268717353453276|\n",
            "|CA   |Blue  |55.59762944479102 |\n",
            "|CA   |Yellow|55.8693967902601  |\n",
            "|CA   |Orange|54.502715751357876|\n",
            "|CA   |Red   |55.26992753623188 |\n",
            "|TX   |Red   |55.306666666666665|\n",
            "|TX   |Yellow|55.09042865531415 |\n",
            "|TX   |Orange|55.880750605326874|\n",
            "|TX   |Brown |55.29311395490554 |\n",
            "|TX   |Blue  |54.811648079306075|\n",
            "|TX   |Green |55.12550374208405 |\n",
            "|WA   |Orange|55.199638118214715|\n",
            "|WA   |Blue  |55.314461538461536|\n",
            "|WA   |Red   |55.85397965290245 |\n",
            "|WA   |Brown |55.77112043139604 |\n",
            "|WA   |Green |54.23608768971332 |\n",
            "|WA   |Yellow|55.8749248346362  |\n",
            "+-----+------+------------------+\n",
            "\n"
          ]
        }
      ]
    },
    {
      "cell_type": "code",
      "source": [
        ""
      ],
      "metadata": {
        "id": "rl5v1A8iylIL"
      },
      "execution_count": null,
      "outputs": []
    },
    {
      "cell_type": "code",
      "source": [
        "# Stop the SparkSession\n",
        "spark.stop()"
      ],
      "metadata": {
        "id": "Rpn1ksOXylWl"
      },
      "execution_count": 30,
      "outputs": []
    }
  ]
}